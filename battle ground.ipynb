{
 "cells": [
  {
   "cell_type": "code",
   "execution_count": null,
   "metadata": {
    "scrolled": true
   },
   "outputs": [],
   "source": [
    "'''\n",
    "    It's a function to find kth largest element in a given array or list.\n",
    "'''\n",
    "def kth_element( nums , k ):\n",
    "    if len(nums) < k : \n",
    "        raise Exception('k is not valid number.')\n",
    "    s = set()\n",
    "    d = dict()\n",
    "    for num in nums :\n",
    "        s.add(num)\n",
    "        if d.get(num) == None :\n",
    "            d[num] = 1\n",
    "        else :\n",
    "            d[num] += 1\n",
    "    print(s,d)\n",
    "    more_item_flag = False\n",
    "    for i in range((len(nums)-k)+1):\n",
    "        if more_item_flag == False :\n",
    "            item = s.pop()\n",
    "        if d[item] > 1 :\n",
    "            more_item_flag = True\n",
    "            d[item] -= 1\n",
    "        else :\n",
    "            more_item_flag = False\n",
    "        print(item)\n",
    "    return item\n",
    "\n",
    "arr = [-1,2,0]\n",
    "kth_element( arr,1) "
   ]
  },
  {
   "cell_type": "code",
   "execution_count": null,
   "metadata": {},
   "outputs": [],
   "source": [
    "arr = [-3,-1,-2]\n",
    "s = set(arr)\n",
    "for i in range(len(s)) :\n",
    "    print(s.pop())"
   ]
  },
  {
   "cell_type": "code",
   "execution_count": null,
   "metadata": {},
   "outputs": [],
   "source": [
    "k=3\n",
    "arr = [1,2,3,4,5,6,7]\n",
    "temp = arr[len(arr)-k:len(arr)]\n",
    "arr[k:len(arr)]=arr[0:len(arr)-k]\n",
    "arr[0:k] = temp\n",
    "\n",
    "arr"
   ]
  },
  {
   "cell_type": "code",
   "execution_count": null,
   "metadata": {
    "scrolled": true
   },
   "outputs": [],
   "source": [
    "7%3"
   ]
  },
  {
   "cell_type": "code",
   "execution_count": null,
   "metadata": {
    "collapsed": true
   },
   "outputs": [],
   "source": [
    "#leetcode algorithm problem No.146\n",
    "#implement LRU Cache \n",
    "\n",
    "\n",
    "class Node(object):\n",
    "    def __init__(self,key,value):\n",
    "        self.pre = None\n",
    "        self.next = None\n",
    "        self.key = key\n",
    "        self.value = value        "
   ]
  },
  {
   "cell_type": "code",
   "execution_count": null,
   "metadata": {},
   "outputs": [],
   "source": [
    "class LRUCache(object):\n",
    "    def __init__(self,capacity):\n",
    "        self.capacity = capacity\n",
    "        self.head = Node(0,0)\n",
    "        self.tail = Node(0,0)\n",
    "        self.head.pre =None\n",
    "        self.head.next = self.tail\n",
    "        self.tail.pre = self.head \n",
    "        self.tail.next = None\n",
    "        self.map = {}\n",
    "        \n",
    "    def delete_node(self,node):\n",
    "        node.pre.next = node.next\n",
    "        node.next.pre = node.pre\n",
    "        \n",
    "    def add_to_head(self,node):\n",
    "        node.next = self.head.next\n",
    "        node.next.pre = node\n",
    "        node.pre = self.head\n",
    "        self.head.next = node\n",
    "    \n",
    "    def get(self,key) :\n",
    "        node = self.map.get(key) \n",
    "        if node is not None :\n",
    "            self.delete_node(node)\n",
    "            self.add_to_head(node)\n",
    "            return node.value\n",
    "        return -1\n",
    "    \n",
    "    def put(self,key,value) :\n",
    "        node = self.map.get(key)\n",
    "        if node is not None :\n",
    "            node.value=value\n",
    "            self.delete_node(node)\n",
    "            self.add_to_head(node)\n",
    "        else :\n",
    "            if len( self.map ) == self.capacity :\n",
    "                node = self.tail.pre\n",
    "                self.delete_node(node)\n",
    "                self.map.pop(node.key)\n",
    "            node = Node(key,value)\n",
    "            self.map[key] = node\n",
    "            self.add_to_head(node)        "
   ]
  },
  {
   "cell_type": "code",
   "execution_count": null,
   "metadata": {
    "scrolled": true
   },
   "outputs": [],
   "source": [
    "cache = LRUCache(2)\n",
    "cache.put(1,1)\n",
    "print( cache.get(1) )\n",
    "cache.put(1,2)\n",
    "print( cache.get(1) )"
   ]
  }
 ],
 "metadata": {
  "kernelspec": {
   "display_name": "Python 3",
   "language": "python",
   "name": "python3"
  },
  "language_info": {
   "codemirror_mode": {
    "name": "ipython",
    "version": 3
   },
   "file_extension": ".py",
   "mimetype": "text/x-python",
   "name": "python",
   "nbconvert_exporter": "python",
   "pygments_lexer": "ipython3",
   "version": "3.6.2"
  }
 },
 "nbformat": 4,
 "nbformat_minor": 2
}
