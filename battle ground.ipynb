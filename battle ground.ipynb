{
 "cells": [
  {
   "cell_type": "code",
   "execution_count": null,
   "metadata": {
    "collapsed": true,
    "scrolled": true
   },
   "outputs": [],
   "source": [
    "'''\n",
    "    It's a function to find kth largest element in a given array or list.\n",
    "'''\n",
    "def kth_element( nums , k ):\n",
    "    if len(nums) < k : \n",
    "        raise Exception('k is not valid number.')\n",
    "    s = set()\n",
    "    d = dict()\n",
    "    for num in nums :\n",
    "        s.add(num)\n",
    "        if d.get(num) == None :\n",
    "            d[num] = 1\n",
    "        else :\n",
    "            d[num] += 1\n",
    "    print(s,d)\n",
    "    more_item_flag = False\n",
    "    for i in range((len(nums)-k)+1):\n",
    "        if more_item_flag == False :\n",
    "            item = s.pop()\n",
    "        if d[item] > 1 :\n",
    "            more_item_flag = True\n",
    "            d[item] -= 1\n",
    "        else :\n",
    "            more_item_flag = False\n",
    "        print(item)\n",
    "    return item\n",
    "\n",
    "arr = [-1,2,0]\n",
    "kth_element( arr,1) "
   ]
  },
  {
   "cell_type": "code",
   "execution_count": null,
   "metadata": {
    "collapsed": true
   },
   "outputs": [],
   "source": [
    "arr = [-3,-1,-2]\n",
    "s = set(arr)\n",
    "for i in range(len(s)) :\n",
    "    print(s.pop())"
   ]
  },
  {
   "cell_type": "code",
   "execution_count": null,
   "metadata": {
    "collapsed": true
   },
   "outputs": [],
   "source": [
    "k=3\n",
    "arr = [1,2,3,4,5,6,7]\n",
    "temp = arr[len(arr)-k:len(arr)]\n",
    "arr[k:len(arr)]=arr[0:len(arr)-k]\n",
    "arr[0:k] = temp\n",
    "\n",
    "arr"
   ]
  },
  {
   "cell_type": "code",
   "execution_count": null,
   "metadata": {
    "collapsed": true,
    "scrolled": true
   },
   "outputs": [],
   "source": [
    "7%3"
   ]
  },
  {
   "cell_type": "code",
   "execution_count": null,
   "metadata": {
    "collapsed": true
   },
   "outputs": [],
   "source": [
    "#leetcode algorithm problem No.146\n",
    "#implement LRU Cache \n",
    "\n",
    "\n",
    "class Node(object):\n",
    "    def __init__(self,key,value):\n",
    "        self.pre = None\n",
    "        self.next = None\n",
    "        self.key = key\n",
    "        self.value = value        "
   ]
  },
  {
   "cell_type": "code",
   "execution_count": null,
   "metadata": {
    "collapsed": true
   },
   "outputs": [],
   "source": [
    "class LRUCache(object):\n",
    "    def __init__(self,capacity):\n",
    "        self.capacity = capacity\n",
    "        self.head = Node(0,0)\n",
    "        self.tail = Node(0,0)\n",
    "        self.head.pre =None\n",
    "        self.head.next = self.tail\n",
    "        self.tail.pre = self.head \n",
    "        self.tail.next = None\n",
    "        self.map = {}\n",
    "        \n",
    "    def delete_node(self,node):\n",
    "        node.pre.next = node.next\n",
    "        node.next.pre = node.pre\n",
    "        \n",
    "    def add_to_head(self,node):\n",
    "        node.next = self.head.next\n",
    "        node.next.pre = node\n",
    "        node.pre = self.head\n",
    "        self.head.next = node\n",
    "    \n",
    "    def get(self,key) :\n",
    "        node = self.map.get(key) \n",
    "        if node is not None :\n",
    "            self.delete_node(node)\n",
    "            self.add_to_head(node)\n",
    "            return node.value\n",
    "        return -1\n",
    "    \n",
    "    def put(self,key,value) :\n",
    "        node = self.map.get(key)\n",
    "        if node is not None :\n",
    "            node.value=value\n",
    "            self.delete_node(node)\n",
    "            self.add_to_head(node)\n",
    "        else :\n",
    "            if len( self.map ) == self.capacity :\n",
    "                node = self.tail.pre\n",
    "                self.delete_node(node)\n",
    "                self.map.pop(node.key)\n",
    "            node = Node(key,value)\n",
    "            self.map[key] = node\n",
    "            self.add_to_head(node)        "
   ]
  },
  {
   "cell_type": "code",
   "execution_count": null,
   "metadata": {
    "collapsed": true,
    "scrolled": true
   },
   "outputs": [],
   "source": [
    "cache = LRUCache(2)\n",
    "cache.put(1,1)\n",
    "print( cache.get(1) )\n",
    "cache.put(1,2)\n",
    "print( cache.get(1) )"
   ]
  },
  {
   "cell_type": "markdown",
   "metadata": {},
   "source": [
    "# leetcode algorithm problem No.352 Data stream as disjoint intervals "
   ]
  },
  {
   "cell_type": "code",
   "execution_count": 147,
   "metadata": {},
   "outputs": [],
   "source": [
    "class Node(object):\n",
    "    def __init__(self,value):\n",
    "        self.pre = None\n",
    "        self.next = None\n",
    "        self.value = value        \n",
    "        \n",
    "class Interval(object):\n",
    "    def __init__(self,start,end) :\n",
    "        self.start = start\n",
    "        self.end = end\n",
    "        \n",
    "class SummaryRanges(object):\n",
    "    def __init__(self):\n",
    "        self.head = Node(None)\n",
    "        self.tail = Node(None)\n",
    "        self.head.pre = None\n",
    "        self.head.next = self.tail\n",
    "        self.tail.pre = self.head\n",
    "        self.tail.next = None\n",
    "\n",
    "    def insertCurrentPre(self,current_node,insert_node):\n",
    "        insert_node.pre = current_node.pre\n",
    "        current_node.pre.next = insert_node\n",
    "        insert_node.next = current_node\n",
    "        current_node.pre = insert_node\n",
    "            \n",
    "    def insertCurrentNext(self,current_node,insert_node):\n",
    "        insert_node.next = current_node.next\n",
    "        current_node.next.pre = insert_node\n",
    "        current_node.next = insert_node\n",
    "        insert_node.pre = current_node\n",
    "\n",
    "    def removeNode(self,node) :\n",
    "        node.pre.next = node.next\n",
    "        node.next.pre = node.pre\n",
    "\n",
    "    def addNum(self,add_num):\n",
    "        if self.head.next == self.tail : \n",
    "            self.insertCurrentNext(self.head,Node(Interval(add_num,add_num)))             \n",
    "        else :\n",
    "            node = self.head\n",
    "            while node.next != self.tail :\n",
    "                node = node.next\n",
    "                interval = node.value\n",
    "                if add_num >= interval.start and add_num <= interval.end :\n",
    "                    break\n",
    "                elif add_num < interval.start :\n",
    "                    if node.pre == self.head : \n",
    "                        if add_num + 1 == interval.start :\n",
    "                            interval.start = add_num\n",
    "                        else :\n",
    "                            self.insertCurrentPre(node,Node(Interval(add_num,add_num)))\n",
    "                    else :\n",
    "                        before_interval = node.pre.value\n",
    "                        if before_interval.end == add_num-1 and add_num+1 == interval.start :\n",
    "                            before_interval.end = interval.end\n",
    "                            self.removeNode(node)\n",
    "                        elif before_interval.end == add_num-1 and add_num+1 < interval.start :\n",
    "                            before_interval.end = add_num\n",
    "                        elif before_interval.end < add_num-1 and add_num+1 == interval.start :\n",
    "                            interval.start = add_num\n",
    "                        else : \n",
    "                            self.insertCurrentPre(node,Node(Interval(add_num,add_num)))\n",
    "                    break                    \n",
    "            if node.next == self.tail :\n",
    "                interval = node.value\n",
    "                if interval.end + 1 == add_num :\n",
    "                    interval.end = add_num\n",
    "                elif interval.end + 1 < add_num :\n",
    "                    self.insertCurrentNext(node,Node(Interval(add_num,add_num)))\n",
    "                \n",
    "    def getIntervals(self):\n",
    "        return_list = []\n",
    "        node = self.head\n",
    "        while node.next != self.tail :\n",
    "            node = node.next\n",
    "            interval = node.value\n",
    "            return_list.append([interval.start,interval.end])\n",
    "        return return_list\n",
    "\n",
    "    def printStatus(self):\n",
    "        node = self.head\n",
    "        while node.next != self.tail :\n",
    "            node = node.next\n",
    "            print(node.value.start,node.value.end)"
   ]
  }
 ],
 "metadata": {
  "kernelspec": {
   "display_name": "Python 3",
   "language": "python",
   "name": "python3"
  },
  "language_info": {
   "codemirror_mode": {
    "name": "ipython",
    "version": 3
   },
   "file_extension": ".py",
   "mimetype": "text/x-python",
   "name": "python",
   "nbconvert_exporter": "python",
   "pygments_lexer": "ipython3",
   "version": "3.6.2"
  }
 },
 "nbformat": 4,
 "nbformat_minor": 2
}
