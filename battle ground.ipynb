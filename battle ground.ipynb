{
 "cells": [
  {
   "cell_type": "code",
   "execution_count": 16,
   "metadata": {},
   "outputs": [
    {
     "data": {
      "text/plain": [
       "1"
      ]
     },
     "execution_count": 16,
     "metadata": {},
     "output_type": "execute_result"
    }
   ],
   "source": [
    "'''\n",
    "    It's a function to find kth largest element in a given array or list.\n",
    "'''\n",
    "def kth_element( nums , k ):\n",
    "    s = set(nums) #time complexity of creating time for set object is O(n). n means number of given list. \n",
    "    if len(s) < k : \n",
    "        raise Exception('k is not valid number.')\n",
    "    for i in range((len(s)-k)+1):\n",
    "        item = s.pop()\n",
    "    return item\n",
    "\n",
    "arr = [2,11,4,5,21,1,1]\n",
    "kth_element( arr , 6) "
   ]
  }
 ],
 "metadata": {
  "kernelspec": {
   "display_name": "Python 3",
   "language": "python",
   "name": "python3"
  },
  "language_info": {
   "codemirror_mode": {
    "name": "ipython",
    "version": 3
   },
   "file_extension": ".py",
   "mimetype": "text/x-python",
   "name": "python",
   "nbconvert_exporter": "python",
   "pygments_lexer": "ipython3",
   "version": "3.6.2"
  }
 },
 "nbformat": 4,
 "nbformat_minor": 2
}
